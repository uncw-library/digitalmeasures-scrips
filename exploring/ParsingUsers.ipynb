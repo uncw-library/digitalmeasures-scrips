{
 "cells": [
  {
   "cell_type": "code",
   "execution_count": null,
   "metadata": {},
   "outputs": [],
   "source": [
    "import os\n",
    "from lxml import etree as ET"
   ]
  },
  {
   "cell_type": "code",
   "execution_count": null,
   "metadata": {},
   "outputs": [],
   "source": [
    "# Getting all usernames (E.g., faculty usernames)\n",
    "\n",
    "usersEtree = ET.parse('output/users.xml')\n",
    "users = usersEtree.findall('.//User')"
   ]
  },
  {
   "cell_type": "code",
   "execution_count": null,
   "metadata": {},
   "outputs": [],
   "source": [
    "# Check that no two users have the same 'username'\n",
    "\n",
    "# found_users = [i.attrib['username'] for i in users]\n",
    "# found_users_set = set(found_users)\n",
    "# print(len(found_users) - len(found_users_set))  # all unique names?\n",
    "# print(found_users[0])  # display an example\n",
    "# print(len(users))  # display how many there are"
   ]
  },
  {
   "cell_type": "markdown",
   "metadata": {},
   "source": [
    "#### Take aways\n",
    "\n",
    "2208 total 'User'\n",
    "\n",
    "All 'User' items have a unique 'username' attribute"
   ]
  },
  {
   "cell_type": "code",
   "execution_count": null,
   "metadata": {},
   "outputs": [],
   "source": [
    "# Check for error xmls\n",
    "\n",
    "# userfiles = sorted(os.listdir('output/users/'))\n",
    "# count = 0\n",
    "\n",
    "# for file in userfiles:\n",
    "#     eTree = ET.parse(f\"output/users/{file}\")\n",
    "#     if \"error\" in eTree.getroot().tag.lower():\n",
    "#         print(os.path.splitext(file)[0])\n",
    "#         count += 1\n",
    "# #         with open(f\"output/users/{file}\") as f:\n",
    "# #             print(f.read())\n",
    "# print(f\"errored Users count: {count}\")"
   ]
  },
  {
   "cell_type": "markdown",
   "metadata": {},
   "source": [
    "#### Take aways\n",
    "\n",
    "34 Users gave an error when doing 'INDIVIDUAL-ACTIVITIES-University'.\n",
    "\n",
    "These are:  \"weisa\", \"braunr\", \"mcb4548\", \"carabellin\", \"chapmanc\", \"cohens\", \"culpa\", \"DIEPPAS\", \"gorae\", \"hoadleyd\", \"jrh4152\", \"jarrellb\", \"keepw\", \"knoxj\", \"lambertonc\", \"lawsonw\", \"learw\", \"mml7328\", \"luopaj\", \"macleodw\", \"smm9756\", \"mcintoshb\", \"nelsoncl\", \"powella\", \"fac_reports\", \"richardsa\", \"sahljs\", \"databackup_service\", \"crs5798\", \"stuartal\", \"web_services_vivo\", \"westgatea\", \"wilsonca\"\n",
    "\n",
    "An example error response:\n",
    "\n",
    "```\n",
    "<?xml version=\"1.0\" encoding=\"UTF-8\"?>\n",
    "<Error>The following errors were detected:\n",
    "\t<Message>Invalid QueryParameter Values specified: 404/USERNAME/OWNER/[westgatea]</Message>\n",
    "</Error>\n",
    "```\n",
    "\n",
    "Using Google to investigate whether the ERROR response was justifiable.  Some individuals are intended for exclusion from vivo -- including non-human users and some others.  Below, categorizing the ERROR users:\n",
    "\n",
    "The affected Users are:\n",
    "\n",
    "3 non-human users: {'databackup_service', 'fac_reports', and 'web_services_vivo'}\n",
    "\n",
    "4 administrative assistants: {'DIEPPAS', 'carabellin', 'culpa', 'sahljs'}\n",
    "\n",
    "3 IT: {'chapmanc', 'luopaj', 'powella'}\n",
    "\n",
    "2 IRP: {'cohens', 'lawsonw'}\n",
    "\n",
    "1 Dean's Office: {'wilsonca'}\n",
    "\n",
    "1 possibly name changed: {'gorea' may now be 'williamsone'}\n",
    "\n",
    "19 unknown reason: {'braunr', 'crs5798', 'gorae', 'hoadleyd', 'jarrellb', 'jrh4152', 'keepw', 'knoxj', 'lambertonc', 'learw', 'macleodw', 'mcb4548', 'nelsoncl', 'richardsa', 'smm9756', 'stuartal', 'weisa', 'wellswd', 'westgatea'}\n",
    "\n",
    "Question:  Who do we contact about the possible error related to name change?\n",
    "    \n",
    "Question:  How do we confirm the intent is to exclude these users from Vivo?"
   ]
  },
  {
   "cell_type": "code",
   "execution_count": null,
   "metadata": {},
   "outputs": [],
   "source": [
    "# Describing the top level structure of all user files\n",
    "\n",
    "# userfiles = sorted(os.listdir('output/users'))\n",
    "# len_Message, len_Record = set(), set()\n",
    "\n",
    "# all_2nd_tags = set()\n",
    "# for file in userfiles:\n",
    "#     etree = ET.parse(f\"output/users/{file}\")\n",
    "#     len_Message.add(len(etree.findall('Message')))\n",
    "#     len_Record.add(len(etree.findall('{http://www.digitalmeasures.com/schema/data}Record')))\n",
    "#     for i in etree.getroot().iterchildren():\n",
    "#         all_2nd_tags.add(i.tag)\n",
    "# print(all_2nd_tags)\n",
    "# print(len_Message, len_Record)"
   ]
  },
  {
   "cell_type": "markdown",
   "metadata": {},
   "source": [
    "#### Take aways\n",
    "\n",
    "Userfiles have a \"Data\" elem with child \"Message\" or \"Record\".\n",
    "\n",
    "The 34 error responses have a Message.\n",
    "\n",
    "All the other have a Record.\n",
    "\n",
    "Never more than one Message or Record.  Never both."
   ]
  },
  {
   "cell_type": "code",
   "execution_count": null,
   "metadata": {},
   "outputs": [],
   "source": [
    "# Describing the 2nd level structure of all user files\n",
    "\n",
    "# record_children = set()\n",
    "# userfiles = sorted(os.listdir('output/users'))\n",
    "\n",
    "# for file in userfiles:\n",
    "#     etree = ET.parse(f\"output/users/{file}\")\n",
    "#     record_tag = etree.find('{http://www.digitalmeasures.com/schema/data}Record')\n",
    "#     if not record_tag:\n",
    "#         continue\n",
    "#     child_tags = record_tag.getchildren()\n",
    "#     for i in child_tags:\n",
    "#         record_children.add(i.tag)\n",
    "\n",
    "# for i in record_children:\n",
    "#     print(i)"
   ]
  },
  {
   "cell_type": "markdown",
   "metadata": {},
   "source": [
    "#### Take aways\n",
    "\n",
    "Below a Record we find these tags: (which are a subset of the entities.xml response)  There's a chance IRP may add other tags at some later date.\n",
    "\n",
    "    ACADVISE\n",
    "    ADMIN\n",
    "    ADMIN_ASSIGNMENTS\n",
    "    ADMIN_PERM\n",
    "    AWARDHONOR\n",
    "    BIOSKETCH\n",
    "    CONGRANT\n",
    "    CONSULT\n",
    "    CURRICULUM\n",
    "    DSL\n",
    "    EDUCATION\n",
    "    FACDEV\n",
    "    INTELLCONT\n",
    "    INTELLPROP\n",
    "    LICCERT\n",
    "    MEDCONT\n",
    "    MEMBER\n",
    "    NCTEACH\n",
    "    NIH_BIOSKETCH\n",
    "    PASTHIST\n",
    "    PCI\n",
    "    PERFORM_EXHIBIT\n",
    "    PRESENT\n",
    "    RESPROG\n",
    "    SCHTEACH\n",
    "    SERVICE_COLLEGE\n",
    "    SERVICE_DEPARTMENT\n",
    "    SERVICE_PROFESSIONAL\n",
    "    SERVICE_PUBLIC\n",
    "    SERVICE_UNIVERSITY\n",
    "    TEACHING_QUAL\n",
    "\n",
    "    {http://www.digitalmeasures.com/schema/data-metadata}IndexEntry"
   ]
  },
  {
   "cell_type": "code",
   "execution_count": null,
   "metadata": {},
   "outputs": [],
   "source": [
    "# Describing the Presentation tag\n",
    "\n",
    "# nsmap = {'xmlns': \"http://www.digitalmeasures.com/schema/data\",\n",
    "#          'dmd': \"http://www.digitalmeasures.com/schema/data-metadata\"\n",
    "#         }\n",
    "# all_presentations = set()\n",
    "\n",
    "# def grab_all_presentations(file):\n",
    "#     etree = ET.parse(f\"output/users/{file}\")\n",
    "#     #     print([i for i in etree.getroot().iterchildren()])\n",
    "#     for i in etree.xpath('./xmlns:Record/xmlns:PRESENT', namespaces=nsmap):\n",
    "#         if i.attrib['id'] in all_presentations:\n",
    "#             print(file, i.attrib['id'])\n",
    "#             continue\n",
    "#         all_presentations.add(i.attrib['id'])\n",
    "\n",
    "# userfiles = sorted(os.listdir('output/users'))\n",
    "# for file in userfiles:\n",
    "#     grab_all_presentations(file)"
   ]
  },
  {
   "cell_type": "markdown",
   "metadata": {},
   "source": [
    "#### Take aways\n",
    "\n",
    "A PRESENT, etc can show up in two User files.  \n",
    "\n",
    "For example, leel & casterellag co-presented id \"187389001728\" (\"IT Audit:  Supporting the Audit Team with the AICPA General Ledger Data Standard\").\n",
    "\n",
    "Assuming, we perform the ETL via User files, that PRESENT could be entered twice in Vivo unless we de-duplicate them before entry.\n",
    "\n",
    "I believe we can assume equality between all elems with the same 'id' attribute."
   ]
  },
  {
   "cell_type": "code",
   "execution_count": null,
   "metadata": {},
   "outputs": [],
   "source": [
    "# Check that all users have the same subtags\n",
    "\n",
    "# expected_subtags = set()\n",
    "\n",
    "# extra_subtags = set()\n",
    "# missing_subtags = dict()\n",
    "\n",
    "# for i in users[0].getchildren():\n",
    "#     expected_subtags.add(i.tag)\n",
    "# for user in users:\n",
    "#     user_subtags = set(i.tag for i in user.getchildren())\n",
    "#     if user_subtags != expected_subtags:\n",
    "#         extra = user_subtags - expected_subtags\n",
    "#         if extra:\n",
    "#             extra_subtags.add(user)\n",
    "#         missing = expected_subtags - user_subtags\n",
    "#         if missing:\n",
    "#             missing_subtags[user] = missing\n",
    "\n",
    "# for i in extra_subtags:\n",
    "#     print(i.attrib)"
   ]
  },
  {
   "cell_type": "markdown",
   "metadata": {},
   "source": [
    "#### Take aways\n",
    "\n",
    "3 fake users {'web_services_vivo', 'databackup_service', 'fac_reports'}\n",
    "These have 'LocalAuthentication' subtag.\n",
    "\n",
    "'bowengl' and 'padgettm' have a subtag 'LocalAuthentication', while the rest have 'LDAPAuthentication'\n",
    "\n",
    "Probably a moot point."
   ]
  },
  {
   "cell_type": "code",
   "execution_count": null,
   "metadata": {},
   "outputs": [],
   "source": [
    "# Collect the elements that have an empty text\n",
    "\n",
    "# empty_subtags = dict()\n",
    "\n",
    "# for user in users:\n",
    "#     blank_subtags = {\n",
    "#         i.tag\n",
    "#         for i in user.getchildren()\n",
    "#         if not i.text\n",
    "#     }\n",
    "#     if blank_subtags:\n",
    "#         empty_subtags[user.attrib['username']] = blank_subtags\n",
    "\n",
    "# empty_subtags"
   ]
  },
  {
   "cell_type": "code",
   "execution_count": null,
   "metadata": {},
   "outputs": [],
   "source": [
    "# MiddleName was a common element with no text.  LDAPAuthentication was another.\n",
    "# Count how many records have an empty text for 'MiddleName'\n",
    "\n",
    "# count = 0\n",
    "# for k, v in missing_subtags.items():\n",
    "#     if v == {'MiddleName'}:\n",
    "#         count += 1\n",
    "#     else:\n",
    "#         print(k.attrib, v)\n",
    "# print(f\"{count} users with 'Middlename' attribute\")"
   ]
  },
  {
   "cell_type": "markdown",
   "metadata": {},
   "source": [
    "#### Take aways\n",
    "\n",
    "491 users have no 'MiddleName' attribute\n",
    "\n",
    "5 users have no 'LDAPAuthentication' attribute:\n",
    "\n",
    "    bowengl\n",
    "    padgettm\n",
    "    fac_reports\n",
    "    web_services_vivo\n",
    "    databackup_service\n",
    "    \n",
    "Probably a moot point"
   ]
  },
  {
   "cell_type": "code",
   "execution_count": null,
   "metadata": {},
   "outputs": [],
   "source": [
    "# Collect the other tags with empty text\n",
    "\n",
    "# print(len([user.attrib['username']\n",
    "#        for user in users\n",
    "#        for subtag in user.findall('LDAPAuthentication')\n",
    "#        if not subtag.text\n",
    "#       ]))\n",
    "# print([user.attrib['username']\n",
    "#        for user in users\n",
    "#        for subtag in user.findall('LDAPAuthentication')\n",
    "#        if subtag.text\n",
    "#       ])\n",
    "# print(len([user.attrib['username']\n",
    "#        for user in users\n",
    "#        for subtag in user.findall('Item')\n",
    "#        if not subtag.text\n",
    "#       ]))\n",
    "# print([user.attrib['username']\n",
    "#        for user in users\n",
    "#        for subtag in user.findall('Item')\n",
    "#        if subtag.text\n",
    "#       ])\n",
    "\n",
    "# print([(user, value)\n",
    "#      for user, value in empty_subtags.items()\n",
    "#      if value != {'LDAPAuthentication', 'Item'}\n",
    "#       ])\n",
    "\n",
    "\n",
    "# for k, v in empty_subtags.items():\n",
    "#     print(k, v)\n",
    "#     break"
   ]
  },
  {
   "cell_type": "markdown",
   "metadata": {},
   "source": [
    "#### Take aways\n",
    "\n",
    "5 Users have 'LocalAuthentication' with empty text.\n",
    "All others have 'LDAPAuthentication' with empty text.\n",
    "\n",
    "All Users have 'Item' with attributes, but empty text.  The Item attribs are always 'type'='simple' and a unique 'href'. \n",
    "\n",
    "3 Users have 'Email' with empty text.  {'fac_reports', 'databackup_service', 'web_services_vivo'}\n",
    "\n",
    "Probably a moot point."
   ]
  },
  {
   "cell_type": "code",
   "execution_count": null,
   "metadata": {},
   "outputs": [],
   "source": [
    "# Collect info on User element attributes\n",
    "\n",
    "# user_attribs = {attrib\n",
    "#                for user in users\n",
    "#                for attrib in user.attrib}\n",
    "\n",
    "# no_enabled, no_BannerID = 0, 0\n",
    "\n",
    "# for user_attrib in user_attribs:\n",
    "#     print('*******', user_attrib)\n",
    "#     for user in users:\n",
    "#         if not user.get(user_attrib):\n",
    "#             print(user.get('username'))\n",
    "#             if user_attrib == 'BannerID':\n",
    "#                 no_BannerID += 1\n",
    "#             if user_attrib == 'enabled':\n",
    "#                 no_enabled += 1\n",
    "# print(no_enabled, no_BannerID)"
   ]
  },
  {
   "cell_type": "markdown",
   "metadata": {},
   "source": [
    "#### Take aways\n",
    "\n",
    "Four attribs on User object:  {'BannerID', 'userID', 'enabled', 'username'}\n",
    "\n",
    "625 Users have an 'enabled'.  All 'enabled' are false.  Probably a moot point.\n",
    "\n",
    "1443 Users have a 'BannerID'.  Probably a moot point.\n",
    "\n",
    "All Users have a 'userID' and a 'username'.  This seems relevant, and looks correct."
   ]
  },
  {
   "cell_type": "code",
   "execution_count": null,
   "metadata": {},
   "outputs": [],
   "source": [
    "# Describing the PERFORM_EXHIBIT tag\n",
    "\n",
    "nsmap = {'xmlns': \"http://www.digitalmeasures.com/schema/data\",\n",
    "         'dmd': \"http://www.digitalmeasures.com/schema/data-metadata\"\n",
    "        }\n",
    "\n",
    "def how_many_instances(file, tag):\n",
    "    etree = ET.parse(f\"../app/output/users/{file}\")\n",
    "    for i in etree.xpath(tag, namespaces=nsmap):\n",
    "        this_perform_subtags = set()\n",
    "        for j in i.iterchildren():\n",
    "            if not all_subtags.get(j.tag):\n",
    "                all_subtags[j.tag] = 'single'\n",
    "                this_perform_subtags.add(j.tag)\n",
    "                continue\n",
    "            if all_subtags[j.tag] == 'multiple':\n",
    "                this_perform_subtags.add(j.tag)\n",
    "                continue\n",
    "            if all_subtags[j.tag] == 'single' and j.tag in this_perform_subtags:\n",
    "                all_subtags[j.tag] = 'multiple'\n",
    "            this_perform_subtags.add(j.tag)"
   ]
  },
  {
   "cell_type": "code",
   "execution_count": null,
   "metadata": {},
   "outputs": [],
   "source": [
    "all_pe = set()\n",
    "all_subtags = dict()\n",
    "\n",
    "userfiles = sorted(os.listdir('../app/output/users'))\n",
    "for file in userfiles:\n",
    "#     how_many_instances(file, f'./xmlns:Record/xmlns:PERFORM_EXHIBIT')\n",
    "#     how_many_instances(file, f'./xmlns:Record/xmlns:PERFORM_EXHIBIT/xmlns:PERFORM_EXHIBIT_CONTRIBUTERS')\n",
    "#     how_many_instances(file, f'./xmlns:Record/xmlns:INTELLPROP')\n",
    "    how_many_instances(file, f'./xmlns:Record/xmlns:CONGRANT')\n",
    "\n",
    "sorted(all_subtags.items())"
   ]
  },
  {
   "cell_type": "code",
   "execution_count": null,
   "metadata": {},
   "outputs": [],
   "source": [
    "def what_values_in_key(tag):\n",
    "    all_values = set()\n",
    "    for file in sorted(os.listdir('../app/output/users')):\n",
    "        etree = ET.parse(f\"../app/output/users/{file}\")\n",
    "        for i in etree.xpath(tag, namespaces=nsmap):\n",
    "            all_values.add(i.text)\n",
    "    return all_values\n",
    "        "
   ]
  },
  {
   "cell_type": "code",
   "execution_count": null,
   "metadata": {},
   "outputs": [],
   "source": [
    "# what_values_in_key('./xmlns:Record/xmlns:CONGRANT/xmlns:AWARDORG')\n",
    "# what_values_in_key('./xmlns:Record/xmlns:CONGRANT/xmlns:SPONORG')\n",
    "# what_values_in_key('./xmlns:Record/xmlns:CONGRANT/xmlns:TYPE')\n",
    "# what_values_in_key('./xmlns:Record/xmlns:CONGRANT/xmlns:STATUS')\n",
    "what_values_in_key('./xmlns:Record/xmlns:CONGRANT/xmlns:CLASSIFICATION')"
   ]
  },
  {
   "cell_type": "code",
   "execution_count": null,
   "metadata": {},
   "outputs": [],
   "source": []
  }
 ],
 "metadata": {
  "kernelspec": {
   "display_name": "Python 3",
   "language": "python",
   "name": "python3"
  },
  "language_info": {
   "codemirror_mode": {
    "name": "ipython",
    "version": 3
   },
   "file_extension": ".py",
   "mimetype": "text/x-python",
   "name": "python",
   "nbconvert_exporter": "python",
   "pygments_lexer": "ipython3",
   "version": "3.8.5"
  }
 },
 "nbformat": 4,
 "nbformat_minor": 4
}
