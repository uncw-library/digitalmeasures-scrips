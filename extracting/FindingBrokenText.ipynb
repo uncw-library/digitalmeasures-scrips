{
 "cells": [
  {
   "cell_type": "code",
   "execution_count": null,
   "metadata": {},
   "outputs": [],
   "source": [
    "import os\n",
    "userfiles = sorted([os.path.join('output', 'users', file) for file in os.listdir('output/users/')])"
   ]
  },
  {
   "cell_type": "code",
   "execution_count": null,
   "metadata": {},
   "outputs": [],
   "source": [
    "import html\n",
    "\n",
    "contain_194_174 = set()\n",
    "curly_quotes = set()\n",
    "long_dash = set()\n",
    "unknowns = set()\n",
    "\n",
    "all_ords = set()\n",
    "\n",
    "def find_html(file):\n",
    "    with open(file, 'r') as f:\n",
    "        text = f.read()\n",
    "    # Microsoft \n",
    "    if 'Â®' in text:\n",
    "        contain_194_174.add(file)\n",
    "    ords = {ord(i) for i in text}\n",
    "    if set(range(128, 161)).intersection(ords):\n",
    "        unknowns.add(file)\n",
    "    all_ords.update(ords)\n",
    "        \n",
    "for file in userfiles:\n",
    "    find_html(file)\n",
    "    \n",
    "print(unknowns)"
   ]
  },
  {
   "cell_type": "code",
   "execution_count": null,
   "metadata": {},
   "outputs": [],
   "source": [
    "for i in all_ords:\n",
    "    print(i, chr(i))"
   ]
  },
  {
   "cell_type": "code",
   "execution_count": null,
   "metadata": {},
   "outputs": [],
   "source": [
    "\"\"\" \n",
    "ok ordinals:\n",
    "9  /t\n",
    "10 /r\n",
    "32 spacebar\n",
    "33-126  normal characters\n",
    "\n",
    "\n",
    "\"\"\"\n",
    "\n",
    "for file in userfiles:\n",
    "    with open(file, 'r') as f:\n",
    "        lines = f.readlines()\n",
    "    error_lines = ''\n",
    "    for line in lines:\n",
    "        ords = [ord(char) for char in line]\n",
    "        if set(range(128, 161)).intersection(ords):\n",
    "            error_lines = f\"{error_lines}\\n{line.strip()}\\n\"\n",
    "    if error_lines:\n",
    "        with open(f\"errors/{os.path.splitext(os.path.split(file)[1])[0]}.txt\", 'w') as f:\n",
    "            f.write(error_lines)\n",
    "                "
   ]
  },
  {
   "cell_type": "code",
   "execution_count": null,
   "metadata": {},
   "outputs": [],
   "source": []
  }
 ],
 "metadata": {
  "kernelspec": {
   "display_name": "Python 3",
   "language": "python",
   "name": "python3"
  },
  "language_info": {
   "codemirror_mode": {
    "name": "ipython",
    "version": 3
   },
   "file_extension": ".py",
   "mimetype": "text/x-python",
   "name": "python",
   "nbconvert_exporter": "python",
   "pygments_lexer": "ipython3",
   "version": "3.8.2"
  }
 },
 "nbformat": 4,
 "nbformat_minor": 4
}
