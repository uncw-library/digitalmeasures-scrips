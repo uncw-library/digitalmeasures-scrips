{
 "cells": [
  {
   "cell_type": "code",
   "execution_count": null,
   "metadata": {},
   "outputs": [],
   "source": [
    "from lxml import etree as ET\n",
    "import requests\n",
    "from requests.auth import HTTPBasicAuth\n",
    "import os\n",
    "import getpass"
   ]
  },
  {
   "cell_type": "code",
   "execution_count": null,
   "metadata": {},
   "outputs": [],
   "source": [
    "user = \"uncw/web_services_vivo\"\n",
    "password = getpass.getpass()"
   ]
  },
  {
   "cell_type": "code",
   "execution_count": null,
   "metadata": {},
   "outputs": [],
   "source": [
    "def write_response(endpoint, filename, limiter='', beta=False):\n",
    "    if beta:\n",
    "        base_url = \"https://betawebservices.digitalmeasures.com/login/service/v4\"\n",
    "    else:\n",
    "        base_url = 'https://webservices.digitalmeasures.com'\n",
    "    response = requests.get(\n",
    "        f\"{base_url}{endpoint}{limiter}\",\n",
    "        auth=HTTPBasicAuth(user, password)\n",
    "    )\n",
    "    with open(f\"output/{filename}.xml\", 'w', encoding='utf8') as f:\n",
    "        f.write(response.text.strip())\n",
    "\n",
    "def get_usernames():\n",
    "    usersEtree = ET.parse('output/users.xml')\n",
    "    users = usersEtree.findall('.//User')\n",
    "    usernames = [i.attrib['username'] for i in users]\n",
    "    return usernames\n",
    "\n",
    "def get_userfiles(usernames):\n",
    "    existing_files = os.listdir('output/users')\n",
    "    failed = set()\n",
    "    for username in usernames:\n",
    "        if f\"{username}.xml\" in existing_files:\n",
    "            continue\n",
    "        endpoint = f\"/login/service/v4/SchemaData/INDIVIDUAL-ACTIVITIES-University/USERNAME:{username}\"\n",
    "        filename = f\"users/{username}\"\n",
    "        write_response(endpoint, filename)\n",
    "        \n",
    "usernames = get_usernames()\n",
    "get_userfiles(usernames)"
   ]
  },
  {
   "cell_type": "code",
   "execution_count": null,
   "metadata": {},
   "outputs": [],
   "source": [
    "# check for error xmls\n",
    "\n",
    "# userfiles = sorted(os.listdir('output/users/'))\n",
    "# count = 0\n",
    "\n",
    "# for file in userfiles:\n",
    "#     eTree = ET.parse(f\"output/users/{file}\")\n",
    "#     if \"error\" in eTree.getroot().tag.lower():\n",
    "#         print(os.path.splitext(file)[0])\n",
    "#         count += 1\n",
    "# #         with open(f\"output/users/{file}\") as f:\n",
    "# #             print(f.read())\n",
    "# print(f\"errored Users count: {count}\")"
   ]
  },
  {
   "cell_type": "raw",
   "metadata": {},
   "source": [
    "#### Take aways\n",
    "\n",
    "34 Users gave an error when doing 'INDIVIDUAL-ACTIVITIES-University'.  The error response was:\n",
    "\n",
    "<?xml version=\"1.0\" encoding=\"UTF-8\"?>\n",
    "<Error>The following errors were detected:\n",
    "\t<Message>Invalid QueryParameter Values specified: 404/USERNAME/OWNER/[westgatea]</Message>\n",
    "</Error>\n",
    "\n",
    "Using Google to investigate whether the <ERROR> response was justifiable.  Some individuals are intended for exclusion from vivo -- including non-human users and some others.  Below, categorizing the <ERROR> users:\n",
    "\n",
    "The affected Users are:\n",
    "\n",
    "3 fake users: {'databackup_service', 'fac_reports', and 'web_services_vivo'}\n",
    "\n",
    "4 administrative assistants: {'DIEPPAS', 'carabellin', 'culpa', 'sahljs'}\n",
    "\n",
    "3 IT: {'chapmanc', 'luopaj', 'powella'}\n",
    "\n",
    "2 IRP: {'cohens', 'lawsonw'}\n",
    "\n",
    "1 Dean's Office: {'wilsonca'}\n",
    "\n",
    "1 name_changed: {'gorea' may now be 'williamsone'}\n",
    "\n",
    "19 unknown reason: {'braunr', 'crs5798', 'gorae', 'hoadleyd', 'jarrellb', 'jrh4152', 'keepw', 'knoxj', 'lambertonc', 'learw', 'macleodw', 'mcb4548', 'nelsoncl', 'richardsa', 'smm9756', 'stuartal', 'weisa', 'wellswd', 'westgatea'}\n",
    "\n",
    "Question:  Who do we contact about the possible error related to name change?\n",
    "    \n",
    "Question:  How do we confirm the intent is to exclude these users from Vivo?"
   ]
  },
  {
   "cell_type": "code",
   "execution_count": null,
   "metadata": {},
   "outputs": [],
   "source": [
    "# userfiles = sorted(os.listdir('output/users'))\n",
    "# len_Message, len_Record = set(), set()\n",
    "\n",
    "all_2nd_tags = set()\n",
    "for file in userfiles:\n",
    "    etree = ET.parse(f\"output/users/{file}\")\n",
    "    len_Message.add(len(etree.findall('Message')))\n",
    "    len_Record.add(len(etree.findall('{http://www.digitalmeasures.com/schema/data}Record')))\n",
    "    for i in etree.getroot().iterchildren():\n",
    "        all_2nd_tags.add(i.tag)\n",
    "print(all_2nd_tags)\n",
    "# print(len_Message, len_Record)"
   ]
  },
  {
   "cell_type": "raw",
   "metadata": {},
   "source": [
    "#### Take aways\n",
    "\n",
    "Userfiles have a <Data> elem with two possible children <Message> and/or <Record>.\n",
    "\n",
    "User files either have a <Data><Message> (the 34 error responses described above),\n",
    "\n",
    "or they have a <Data><Record>.  Never more than one <Message> or <Record>.  Never both.\n"
   ]
  },
  {
   "cell_type": "code",
   "execution_count": null,
   "metadata": {},
   "outputs": [],
   "source": [
    "# record_children = set()\n",
    "# userfiles = sorted(os.listdir('output/users'))\n",
    "\n",
    "# for file in userfiles:\n",
    "#     etree = ET.parse(f\"output/users/{file}\")\n",
    "#     record_tag = etree.find('{http://www.digitalmeasures.com/schema/data}Record')\n",
    "#     if not record_tag:\n",
    "#         continue\n",
    "#     child_tags = record_tag.getchildren()\n",
    "#     for i in child_tags:\n",
    "#         record_children.add(i.tag)\n",
    "\n",
    "# for i in record_children:\n",
    "#     print(i)"
   ]
  },
  {
   "cell_type": "raw",
   "metadata": {},
   "source": [
    "#### Take aways\n",
    "\n",
    "Below a <Record> we find these tags: (which are a subset of the entities.xml response)  There's a chance IRP may add other tags at some later date.\n",
    "\n",
    "ACADVISE\n",
    "ADMIN\n",
    "ADMIN_ASSIGNMENTS\n",
    "ADMIN_PERM\n",
    "AWARDHONOR\n",
    "BIOSKETCH\n",
    "CONGRANT\n",
    "CONSULT\n",
    "CURRICULUM\n",
    "DSL\n",
    "EDUCATION\n",
    "FACDEV\n",
    "INTELLCONT\n",
    "INTELLPROP\n",
    "LICCERT\n",
    "MEDCONT\n",
    "MEMBER\n",
    "NCTEACH\n",
    "NIH_BIOSKETCH\n",
    "PASTHIST\n",
    "PCI\n",
    "PERFORM_EXHIBIT\n",
    "PRESENT\n",
    "RESPROG\n",
    "SCHTEACH\n",
    "SERVICE_COLLEGE\n",
    "SERVICE_DEPARTMENT\n",
    "SERVICE_PROFESSIONAL\n",
    "SERVICE_PUBLIC\n",
    "SERVICE_UNIVERSITY\n",
    "TEACHING_QUAL\n",
    "{http://www.digitalmeasures.com/schema/data-metadata}IndexEntry"
   ]
  },
  {
   "cell_type": "raw",
   "metadata": {},
   "source": [
    "A PRESENT, etc can show up in two User files.  For example, leel & casterellag co-presented id \"187389001728\" (\"IT Audit:  Supporting the Audit Team with the AICPA General Ledger Data Standard\").\n",
    "\n",
    "Assuming, one performs the ETL via User files.\n",
    "As such, that PRESENT could be entered twice in Vivo unless we de-duplicate them before entry.\n",
    "\n",
    "I believe we can assume equality between all elems with the same 'id' attribute."
   ]
  },
  {
   "cell_type": "code",
   "execution_count": null,
   "metadata": {},
   "outputs": [],
   "source": [
    "nsmap = {'xmlns': \"http://www.digitalmeasures.com/schema/data\",\n",
    "         'dmd': \"http://www.digitalmeasures.com/schema/data-metadata\"\n",
    "        }\n",
    "all_presentations = set()\n",
    "\n",
    "def grab_all_presentations(file):\n",
    "    etree = ET.parse(f\"output/users/{file}\")\n",
    "    #     print([i for i in etree.getroot().iterchildren()])\n",
    "    for i in etree.xpath('./xmlns:Record/xmlns:PRESENT', namespaces=nsmap):\n",
    "        if i.attrib['id'] in all_presentations:\n",
    "            print(file, i.attrib['id'])\n",
    "            continue\n",
    "        all_presentations.add(i.attrib['id'])\n",
    "\n",
    "userfiles = sorted(os.listdir('output/users'))\n",
    "for file in userfiles:\n",
    "    grab_all_presentations(file)"
   ]
  },
  {
   "cell_type": "code",
   "execution_count": null,
   "metadata": {},
   "outputs": [],
   "source": [
    "len(all_presentations)"
   ]
  },
  {
   "cell_type": "code",
   "execution_count": null,
   "metadata": {},
   "outputs": [],
   "source": []
  }
 ],
 "metadata": {
  "kernelspec": {
   "display_name": "Python 3",
   "language": "python",
   "name": "python3"
  },
  "language_info": {
   "codemirror_mode": {
    "name": "ipython",
    "version": 3
   },
   "file_extension": ".py",
   "mimetype": "text/x-python",
   "name": "python",
   "nbconvert_exporter": "python",
   "pygments_lexer": "ipython3",
   "version": "3.8.2"
  }
 },
 "nbformat": 4,
 "nbformat_minor": 4
}
