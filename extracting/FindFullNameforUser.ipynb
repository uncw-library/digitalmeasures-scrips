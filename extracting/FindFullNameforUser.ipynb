{
 "cells": [
  {
   "cell_type": "code",
   "execution_count": null,
   "metadata": {},
   "outputs": [],
   "source": [
    "import os\n",
    "from lxml import etree as ET"
   ]
  },
  {
   "cell_type": "code",
   "execution_count": null,
   "metadata": {},
   "outputs": [],
   "source": [
    "NSMAP = {\n",
    "    \"a\": \"http://www.digitalmeasures.com/schema/data\",\n",
    "    \"dmd\": \"http://www.digitalmeasures.com/schema/data-metadata\",\n",
    "}"
   ]
  },
  {
   "cell_type": "code",
   "execution_count": null,
   "metadata": {},
   "outputs": [],
   "source": [
    "def parse_userfile(file):\n",
    "    etree = ET.parse(file)\n",
    "    data_elem = etree.xpath(\"/a:Data\", namespaces=NSMAP)[0]\n",
    "    record_elem = data_elem.xpath(\"a:Record\", namespaces=NSMAP)[0]\n",
    "\n",
    "    userId = record_elem.attrib.get(\"userId\")\n",
    "    username = record_elem.attrib.get(\"username\")\n",
    "    try:\n",
    "        PCI_elem = record_elem.xpath(\"a:PCI\", namespaces=NSMAP)[0]\n",
    "        person = get_PCI_info(PCI_elem)\n",
    "    except IndexError:\n",
    "        person = None\n",
    "    return {\n",
    "        \"userId\": userId,\n",
    "        \"username\": username,\n",
    "        \"person\": person,\n",
    "    }"
   ]
  },
  {
   "cell_type": "code",
   "execution_count": null,
   "metadata": {},
   "outputs": [],
   "source": [
    "def get_PCI_info(PCI_elem):\n",
    "    uid = PCI_elem.attrib.get(\"id\")\n",
    "    prefix = get_child_text(PCI_elem, \"PREFIX\")\n",
    "    firstname = get_child_text(PCI_elem, \"FNAME\")\n",
    "    middlename = get_child_text(PCI_elem, \"MNAME\")\n",
    "    lastname = get_child_text(PCI_elem, \"LNAME\")\n",
    "    suffix = get_child_text(PCI_elem, \"SUFFIX\")\n",
    "    photo = get_child_text(PCI_elem, \"UPLOAD_PHOTO\")\n",
    "    endpos = get_child_text(PCI_elem, \"ENDPOS\")\n",
    "    return {\n",
    "        \"id\": uid,\n",
    "        \"firstname\": firstname,\n",
    "        \"middlename\": middlename,\n",
    "        \"lastname\": lastname,\n",
    "        \"prefix\": prefix,\n",
    "        \"suffix\": suffix,\n",
    "        \"photo\": photo,\n",
    "        \"endpos\": endpos,\n",
    "    }"
   ]
  },
  {
   "cell_type": "code",
   "execution_count": null,
   "metadata": {},
   "outputs": [],
   "source": [
    "def get_child_text(elem, child, ns=\"a\"):\n",
    "    try:\n",
    "        text = elem.xpath(f\"{ns}:{child}\", namespaces=NSMAP)[0].text\n",
    "    except IndexError:\n",
    "        text = \"\"\n",
    "    if not text:\n",
    "        text = \"\"\n",
    "    return text"
   ]
  },
  {
   "cell_type": "code",
   "execution_count": null,
   "metadata": {},
   "outputs": [],
   "source": [
    "x = parse_userfile('../extracting/output/users/aah6920.xml')"
   ]
  },
  {
   "cell_type": "code",
   "execution_count": null,
   "metadata": {},
   "outputs": [],
   "source": [
    "with open('../making_turtle/exclude_users/no_rank_srank.txt', 'r') as f:\n",
    "    no_rank_sranks = [i.strip() for i in f.readlines() if i.strip()]"
   ]
  },
  {
   "cell_type": "code",
   "execution_count": null,
   "metadata": {},
   "outputs": [],
   "source": [
    "parsed_no_rank_sranks = [parse_userfile(f\"../extracting/output/users/{i}.xml\") for i in no_rank_sranks]   "
   ]
  },
  {
   "cell_type": "code",
   "execution_count": null,
   "metadata": {},
   "outputs": [],
   "source": [
    "for i in parsed_no_rank_sranks:\n",
    "    print(f\"{i.get('person').get('lastname')}, {i.get('person').get('firstname')}\\t\\t\\t{i.get('username')}\")"
   ]
  },
  {
   "cell_type": "code",
   "execution_count": null,
   "metadata": {},
   "outputs": [],
   "source": []
  }
 ],
 "metadata": {
  "kernelspec": {
   "display_name": "Python 3",
   "language": "python",
   "name": "python3"
  },
  "language_info": {
   "codemirror_mode": {
    "name": "ipython",
    "version": 3
   },
   "file_extension": ".py",
   "mimetype": "text/x-python",
   "name": "python",
   "nbconvert_exporter": "python",
   "pygments_lexer": "ipython3",
   "version": "3.8.5"
  }
 },
 "nbformat": 4,
 "nbformat_minor": 4
}
