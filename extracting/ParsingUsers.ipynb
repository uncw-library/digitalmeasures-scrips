{
 "cells": [
  {
   "cell_type": "code",
   "execution_count": null,
   "metadata": {},
   "outputs": [],
   "source": [
    "from lxml import etree as ET"
   ]
  },
  {
   "cell_type": "code",
   "execution_count": null,
   "metadata": {},
   "outputs": [],
   "source": [
    "## Parsing users\n",
    "\n",
    "usersEtree = ET.parse('output/users.xml')\n",
    "users = usersEtree.findall('.//User')"
   ]
  },
  {
   "cell_type": "code",
   "execution_count": null,
   "metadata": {},
   "outputs": [],
   "source": [
    "# Check that no two users have the same 'username'\n",
    "\n",
    "# found_users = [i.attrib['username'] for i in users]\n",
    "# found_users_set = set(found_users)\n",
    "# print(len(found_users) - len(found_users_set))\n",
    "# print(found_users[0])\n",
    "# print(len(users))"
   ]
  },
  {
   "cell_type": "markdown",
   "metadata": {},
   "source": [
    "#### take aways:\n",
    "\n",
    "2208 total 'User'\n",
    "\n",
    "All 'User' items have a unique 'username' attribute"
   ]
  },
  {
   "cell_type": "code",
   "execution_count": null,
   "metadata": {},
   "outputs": [],
   "source": [
    "# Check that all users have the same subtags\n",
    "\n",
    "# expected_subtags = set()\n",
    "\n",
    "# extra_subtags = set()\n",
    "# missing_subtags = dict()\n",
    "\n",
    "# for i in users[0].getchildren():\n",
    "#     expected_subtags.add(i.tag)\n",
    "# for user in users:\n",
    "#     user_subtags = set(i.tag for i in user.getchildren())\n",
    "#     if user_subtags != expected_subtags:\n",
    "#         extra = user_subtags - expected_subtags\n",
    "#         if extra:\n",
    "#             extra_subtags.add(user)\n",
    "#         missing = expected_subtags - user_subtags\n",
    "#         if missing:\n",
    "#             missing_subtags[user] = missing\n",
    "\n",
    "# for i in extra_subtags:\n",
    "#     print(i.attrib)"
   ]
  },
  {
   "cell_type": "markdown",
   "metadata": {},
   "source": [
    "#### take aways:\n",
    "\n",
    "3 fake users {'web_services_vivo', 'databackup_service', 'fac_reports'}\n",
    "These have 'LocalAuthentication' subtag.\n",
    "\n",
    "'bowengl' and 'padgettm' have a subtag 'LocalAuthentication', while the rest have 'LDAPAuthentication'"
   ]
  },
  {
   "cell_type": "code",
   "execution_count": null,
   "metadata": {},
   "outputs": [],
   "source": [
    "# count = 0\n",
    "# for k, v in missing_subtags.items():\n",
    "#     if v == {'MiddleName'}:\n",
    "#         count += 1\n",
    "#     else:\n",
    "#         print(k.attrib, v)\n",
    "# print(f\"{count} users with 'Middlename' attribute\")"
   ]
  },
  {
   "cell_type": "markdown",
   "metadata": {},
   "source": [
    "#### take aways:\n",
    "\n",
    "491 users have no 'MiddleName' attribute\n",
    "\n",
    "5 users have no 'LDAPAuthentication' attribute:\n",
    " - 'bowengl'\n",
    " - 'padgettm'\n",
    " - 'fac_reports'\n",
    " - 'web_services_vivo'\n",
    " - 'databackup_service'"
   ]
  },
  {
   "cell_type": "code",
   "execution_count": null,
   "metadata": {},
   "outputs": [],
   "source": [
    "# empty_subtags = dict()\n",
    "\n",
    "# for user in users:\n",
    "#     blank_subtags = {\n",
    "#         i.tag\n",
    "#         for i in user.getchildren()\n",
    "#         if not i.text\n",
    "#     }\n",
    "#     if blank_subtags:\n",
    "#         empty_subtags[user.attrib['username']] = blank_subtags\n",
    "\n",
    "# empty_subtags"
   ]
  },
  {
   "cell_type": "code",
   "execution_count": null,
   "metadata": {},
   "outputs": [],
   "source": [
    "# print(len([user.attrib['username']\n",
    "#        for user in users\n",
    "#        for subtag in user.findall('LDAPAuthentication')\n",
    "#        if not subtag.text\n",
    "#       ]))\n",
    "# print([user.attrib['username']\n",
    "#        for user in users\n",
    "#        for subtag in user.findall('LDAPAuthentication')\n",
    "#        if subtag.text\n",
    "#       ])\n",
    "# print(len([user.attrib['username']\n",
    "#        for user in users\n",
    "#        for subtag in user.findall('Item')\n",
    "#        if not subtag.text\n",
    "#       ]))\n",
    "# print([user.attrib['username']\n",
    "#        for user in users\n",
    "#        for subtag in user.findall('Item')\n",
    "#        if subtag.text\n",
    "#       ])\n",
    "\n",
    "# print([(user, value)\n",
    "#      for user, value in empty_subtags.items()\n",
    "#      if value != {'LDAPAuthentication', 'Item'}\n",
    "#       ])\n",
    "\n",
    "\n",
    "# for k, v in empty_subtags.items():\n",
    "#     print(k, v)\n",
    "#     break"
   ]
  },
  {
   "cell_type": "markdown",
   "metadata": {},
   "source": [
    "#### take aways:\n",
    "\n",
    "5 Users have 'LocalAuthentication' with empty text.\n",
    "All others have 'LDAPAuthentication' with empty text.\n",
    "\n",
    "All Users have 'Item' with attributes, but empty text.  The Item attribs are always 'type'='simple' and a unique 'href'. \n",
    "\n",
    "3 Users have 'Email' with empty text.  {'fac_reports', 'databackup_service', 'web_services_vivo'}"
   ]
  },
  {
   "cell_type": "code",
   "execution_count": null,
   "metadata": {},
   "outputs": [],
   "source": [
    "# user_attribs = {attrib\n",
    "#                for user in users\n",
    "#                for attrib in user.attrib}\n",
    "\n",
    "# no_enabled, no_BannerID = 0, 0\n",
    "\n",
    "# for user_attrib in user_attribs:\n",
    "#     print('*******', user_attrib)\n",
    "#     for user in users:\n",
    "#         if not user.get(user_attrib):\n",
    "#             print(user.get('username'))\n",
    "#             if user_attrib == 'BannerID':\n",
    "#                 no_BannerID += 1\n",
    "#             if user_attrib == 'enabled':\n",
    "#                 no_enabled += 1\n",
    "# print(no_enabled, no_BannerID)"
   ]
  },
  {
   "cell_type": "markdown",
   "metadata": {},
   "source": [
    "#### User attributes\n",
    "\n",
    "Four attribs on User object:  {'BannerID', 'userID', 'enabled', 'username'}\n",
    "\n",
    "All Users have a 'userID' and a 'username'.\n",
    "\n",
    "625 Users have an 'enabled'.  All 'enabled' are false.\n",
    "\n",
    "1443 Users have a 'BannerID'"
   ]
  },
  {
   "cell_type": "code",
   "execution_count": null,
   "metadata": {},
   "outputs": [],
   "source": []
  }
 ],
 "metadata": {
  "kernelspec": {
   "display_name": "Python 3",
   "language": "python",
   "name": "python3"
  },
  "language_info": {
   "codemirror_mode": {
    "name": "ipython",
    "version": 3
   },
   "file_extension": ".py",
   "mimetype": "text/x-python",
   "name": "python",
   "nbconvert_exporter": "python",
   "pygments_lexer": "ipython3",
   "version": "3.8.2"
  }
 },
 "nbformat": 4,
 "nbformat_minor": 4
}
