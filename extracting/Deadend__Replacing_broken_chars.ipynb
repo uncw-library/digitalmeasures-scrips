{
 "cells": [
  {
   "cell_type": "code",
   "execution_count": null,
   "metadata": {},
   "outputs": [],
   "source": [
    "import os\n",
    "import shutil\n"
   ]
  },
  {
   "cell_type": "code",
   "execution_count": null,
   "metadata": {},
   "outputs": [],
   "source": [
    "# Edit files in revised_users folder\n",
    "\n",
    "revised_users = sorted([os.path.join('output', 'revised_users', file) for file in os.listdir('output/revised_users/')])\n",
    "\n",
    "odd_characters = set()\n",
    "\n",
    "file_text = []\n",
    "\n",
    "brokens_replacements = {\n",
    "    \"ï\": \"\",\n",
    "    \"â\": \"'\",\n",
    "    \"â\": \"'\",\n",
    "    \"â\": \"'\",\n",
    "    \"â\": \"'\",\n",
    "    \"â\": \"'\",\n",
    "    \"â¢\": \"\",\n",
    "    \"â\": \"'\",\n",
    "    \"â\": \"-\",\n",
    "    \"â\": \"\",\n",
    "    \"â\": \"-\",\n",
    "    \"â\": \"-\",\n",
    "    \"â¦\": \" \",\n",
    "    \"ï§\": \"\",\n",
    "    \"â¡\": \"\",\n",
    "    \":â\": \"\",\n",
    "    \"â\": \"™\",\n",
    "    \"Ã\": \"™\",\n",
    "    \"â\": \"\",\n",
    "    \"â\": \"-\",\n",
    "    \"â\": \" \",\n",
    "    \"ï¼\": \" (\",\n",
    "    \"ï¼\": \") \",\n",
    "    \"Ï\": \"ρ\"\n",
    "}\n",
    "\n",
    "def replace_broken(line):\n",
    "    for k, v in brokens_replacements.items():\n",
    "        while k in line:\n",
    "            line = line.replace(k, v)\n",
    "    return line    \n",
    "\n",
    "lines = []\n",
    "for file in revised_users:\n",
    "    with open(file, 'r') as f:\n",
    "        lines = f.readlines()\n",
    "    for line_num, line in enumerate(lines):\n",
    "        for k, v in brokens_replacements.items():\n",
    "            if k in line:\n",
    "                line = replace_broken(line)\n",
    "                lines[line_num] = line\n",
    "    with open(file, 'w') as f:\n",
    "        f.writelines(lines)\n",
    "\n",
    "    "
   ]
  },
  {
   "cell_type": "code",
   "execution_count": null,
   "metadata": {},
   "outputs": [],
   "source": [
    "# Check the revised_users folder for errors\n",
    "# Write errors to revised_errors folder\n",
    "\n",
    "\"\"\" \n",
    "ok ordinals:\n",
    "9  /t\n",
    "10 /r\n",
    "32 spacebar\n",
    "33-126  normal characters\n",
    "\n",
    "\n",
    "\"\"\"\n",
    "\n",
    "def check_and_log_errors(file):\n",
    "    with open(file, 'r') as f:\n",
    "        lines = f.readlines()\n",
    "    error_lines = ''\n",
    "    for line in lines:\n",
    "        ords = [ord(char) for char in line]\n",
    "        if set(range(128, 161)).intersection(ords):\n",
    "            error_lines = f\"{error_lines}\\n{line.strip()}\\n\"\n",
    "    if error_lines:\n",
    "        with open(f\"revised_errors/{os.path.splitext(os.path.split(file)[1])[0]}.txt\", 'w') as f:\n",
    "            f.write(error_lines)    \n",
    "\n",
    "for file in os.listdir('revised_errors'):\n",
    "    os.remove(os.path.join('revised_errors', file))\n",
    "\n",
    "for file in revised_users:\n",
    "    check_and_log_errors(file)\n"
   ]
  },
  {
   "cell_type": "code",
   "execution_count": null,
   "metadata": {},
   "outputs": [],
   "source": [
    "original_files = sorted([os.path.join('output', 'users', file) for file in os.listdir('output/users/')])\n",
    "revised_files = sorted([os.path.join('output', 'revised_users', file) for file in os.listdir('output/revised_users/')])"
   ]
  },
  {
   "cell_type": "code",
   "execution_count": null,
   "metadata": {},
   "outputs": [],
   "source": [
    "# make a file showing all the changes\n",
    "\n",
    "all_errors = []\n",
    "for file in revised_files:\n",
    "    different_lines = []\n",
    "    with open(file, 'r') as f:\n",
    "        revised_lines = f.readlines()\n",
    "    with open(os.path.join('output', 'users', os.path.split(file)[1]), 'r') as f:\n",
    "        original_lines = f.readlines()\n",
    "    for original_line, revised_line in zip(original_lines, revised_lines):\n",
    "        if original_line != revised_line:\n",
    "            different_lines.extend([f\"{original_line}\\n\", f\"{revised_line}\\n\"])\n",
    "    if different_lines:\n",
    "        all_errors.append(f\"{file}\\n\")\n",
    "        all_errors.extend(different_lines)\n",
    "with open('differences_post_revision.txt', 'w') as f:\n",
    "    f.writelines(all_errors)"
   ]
  },
  {
   "cell_type": "code",
   "execution_count": null,
   "metadata": {},
   "outputs": [],
   "source": []
  }
 ],
 "metadata": {
  "kernelspec": {
   "display_name": "Python 3",
   "language": "python",
   "name": "python3"
  },
  "language_info": {
   "codemirror_mode": {
    "name": "ipython",
    "version": 3
   },
   "file_extension": ".py",
   "mimetype": "text/x-python",
   "name": "python",
   "nbconvert_exporter": "python",
   "pygments_lexer": "ipython3",
   "version": "3.8.2"
  }
 },
 "nbformat": 4,
 "nbformat_minor": 4
}
